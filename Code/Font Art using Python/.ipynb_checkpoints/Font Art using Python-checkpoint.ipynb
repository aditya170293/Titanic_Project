{
 "cells": [
  {
   "cell_type": "code",
   "execution_count": 4,
   "metadata": {},
   "outputs": [],
   "source": [
    "import pyfiglet"
   ]
  },
  {
   "cell_type": "code",
   "execution_count": 10,
   "metadata": {},
   "outputs": [],
   "source": [
    "font = pyfiglet.figlet_format('Aditya Mane',font='larry3d')"
   ]
  },
  {
   "cell_type": "code",
   "execution_count": 11,
   "metadata": {},
   "outputs": [
    {
     "name": "stdout",
     "output_type": "stream",
     "text": [
      " ______      __      __                        \n",
      "/\\  _  \\    /\\ \\  __/\\ \\__                     \n",
      "\\ \\ \\L\\ \\   \\_\\ \\/\\_\\ \\ ,_\\  __  __     __     \n",
      " \\ \\  __ \\  /'_` \\/\\ \\ \\ \\/ /\\ \\/\\ \\  /'__`\\   \n",
      "  \\ \\ \\/\\ \\/\\ \\L\\ \\ \\ \\ \\ \\_\\ \\ \\_\\ \\/\\ \\L\\.\\_ \n",
      "   \\ \\_\\ \\_\\ \\___,_\\ \\_\\ \\__\\\\/`____ \\ \\__/.\\_\\\n",
      "    \\/_/\\/_/\\/__,_ /\\/_/\\/__/ `/___/> \\/__/\\/_/\n",
      "                                 /\\___/        \n",
      "                                 \\/__/         \n",
      "                                    \n",
      " /'\\_/`\\                            \n",
      "/\\      \\     __      ___      __   \n",
      "\\ \\ \\__\\ \\  /'__`\\  /' _ `\\  /'__`\\ \n",
      " \\ \\ \\_/\\ \\/\\ \\L\\.\\_/\\ \\/\\ \\/\\  __/ \n",
      "  \\ \\_\\\\ \\_\\ \\__/.\\_\\ \\_\\ \\_\\ \\____\\\n",
      "   \\/_/ \\/_/\\/__/\\/_/\\/_/\\/_/\\/____/\n",
      "                                    \n",
      "                                    \n",
      "\n"
     ]
    }
   ],
   "source": [
    "print(font)"
   ]
  },
  {
   "cell_type": "code",
   "execution_count": null,
   "metadata": {},
   "outputs": [],
   "source": []
  }
 ],
 "metadata": {
  "kernelspec": {
   "display_name": "Python 3",
   "language": "python",
   "name": "python3"
  },
  "language_info": {
   "codemirror_mode": {
    "name": "ipython",
    "version": 3
   },
   "file_extension": ".py",
   "mimetype": "text/x-python",
   "name": "python",
   "nbconvert_exporter": "python",
   "pygments_lexer": "ipython3",
   "version": "3.8.3"
  }
 },
 "nbformat": 4,
 "nbformat_minor": 4
}
