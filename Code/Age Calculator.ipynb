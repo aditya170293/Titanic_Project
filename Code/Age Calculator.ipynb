{
 "cells": [
  {
   "cell_type": "code",
   "execution_count": 5,
   "metadata": {},
   "outputs": [],
   "source": [
    "import os"
   ]
  },
  {
   "cell_type": "code",
   "execution_count": 6,
   "metadata": {},
   "outputs": [
    {
     "data": {
      "text/plain": [
       "'C:\\\\Users\\\\Aditya41286\\\\Desktop\\\\GitHub\\\\Titanic_Project\\\\Code'"
      ]
     },
     "execution_count": 6,
     "metadata": {},
     "output_type": "execute_result"
    }
   ],
   "source": [
    "os.getcwd()"
   ]
  },
  {
   "cell_type": "code",
   "execution_count": 4,
   "metadata": {},
   "outputs": [
    {
     "name": "stdout",
     "output_type": "stream",
     "text": [
      "Enter the Year of Birth: 1991\n",
      "Enter the month of Birth: 03\n",
      "Enter the the day you born on: 13\n",
      "you are 30 years old.\n"
     ]
    }
   ],
   "source": [
    "# ask date of birth as input\n",
    "\n",
    "year = int(input(\"Enter the Year of Birth: \"))\n",
    "month = int(input(\"Enter the month of Birth: \"))\n",
    "day = int(input(\"Enter the the day you born on: \"))\n",
    "\n",
    "# Create a function\n",
    "def ageCAlculator(y,m,d):\n",
    "    import datetime\n",
    "    today = datetime.datetime.now().date()\n",
    "    dob = datetime.date(y,m,d)\n",
    "    age = int((today-dob).days/365.25)\n",
    "    print(f\"you are {age} years old.\")\n",
    "    \n",
    "#calll function with asked input\n",
    "ageCAlculator(year,month,day)"
   ]
  },
  {
   "cell_type": "code",
   "execution_count": null,
   "metadata": {},
   "outputs": [],
   "source": []
  }
 ],
 "metadata": {
  "kernelspec": {
   "display_name": "Python 3",
   "language": "python",
   "name": "python3"
  },
  "language_info": {
   "codemirror_mode": {
    "name": "ipython",
    "version": 3
   },
   "file_extension": ".py",
   "mimetype": "text/x-python",
   "name": "python",
   "nbconvert_exporter": "python",
   "pygments_lexer": "ipython3",
   "version": "3.8.3"
  }
 },
 "nbformat": 4,
 "nbformat_minor": 4
}
