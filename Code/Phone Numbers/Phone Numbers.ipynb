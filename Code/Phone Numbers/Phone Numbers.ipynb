{
 "cells": [
  {
   "cell_type": "code",
   "execution_count": 1,
   "metadata": {},
   "outputs": [
    {
     "name": "stdout",
     "output_type": "stream",
     "text": [
      "Collecting package metadata (current_repodata.json): ...working... done\n",
      "Solving environment: ...working... done\n",
      "\n",
      "## Package Plan ##\n",
      "\n",
      "  environment location: C:\\Users\\Aditya41286\\Anaconda3\n",
      "\n",
      "  added / updated specs:\n",
      "    - phonenumbers\n",
      "\n",
      "\n",
      "The following packages will be downloaded:\n",
      "\n",
      "    package                    |            build\n",
      "    ---------------------------|-----------------\n",
      "    phonenumbers-8.12.27       |     pyhd3eb1b0_0         1.4 MB\n",
      "    ------------------------------------------------------------\n",
      "                                           Total:         1.4 MB\n",
      "\n",
      "The following NEW packages will be INSTALLED:\n",
      "\n",
      "  phonenumbers       pkgs/main/noarch::phonenumbers-8.12.27-pyhd3eb1b0_0\n",
      "\n",
      "\n",
      "\n",
      "Downloading and Extracting Packages\n",
      "\n",
      "phonenumbers-8.12.27 | 1.4 MB    |            |   0% \n",
      "phonenumbers-8.12.27 | 1.4 MB    | 1          |   1% \n",
      "phonenumbers-8.12.27 | 1.4 MB    | #6         |  16% \n",
      "phonenumbers-8.12.27 | 1.4 MB    | ###4       |  34% \n",
      "phonenumbers-8.12.27 | 1.4 MB    | #####1     |  52% \n",
      "phonenumbers-8.12.27 | 1.4 MB    | #######2   |  72% \n",
      "phonenumbers-8.12.27 | 1.4 MB    | ########## | 100% \n",
      "phonenumbers-8.12.27 | 1.4 MB    | ########## | 100% \n",
      "Preparing transaction: ...working... done\n",
      "\n",
      "Note: you may need to restart the kernel to use updated packages.Verifying transaction: ...working... done\n",
      "\n",
      "Executing transaction: ...working... done\n"
     ]
    }
   ],
   "source": [
    "conda install phonenumbers"
   ]
  },
  {
   "cell_type": "code",
   "execution_count": 2,
   "metadata": {},
   "outputs": [],
   "source": [
    "import phonenumbers as ph"
   ]
  },
  {
   "cell_type": "code",
   "execution_count": 3,
   "metadata": {},
   "outputs": [],
   "source": [
    "from phonenumbers import carrier\n",
    "from phonenumbers import geocoder\n",
    "from phonenumbers import timezone"
   ]
  },
  {
   "cell_type": "code",
   "execution_count": 14,
   "metadata": {},
   "outputs": [],
   "source": [
    "# number = +442083661177"
   ]
  },
  {
   "cell_type": "code",
   "execution_count": 21,
   "metadata": {},
   "outputs": [],
   "source": [
    "number = ph.parse(\"+917028918151\")\n",
    "# print(number)"
   ]
  },
  {
   "cell_type": "code",
   "execution_count": 22,
   "metadata": {},
   "outputs": [
    {
     "name": "stdout",
     "output_type": "stream",
     "text": [
      "('Asia/Calcutta',)\n",
      "Airtel\n",
      "India\n"
     ]
    }
   ],
   "source": [
    "print(timezone.time_zones_for_number(number))\n",
    "print(carrier.name_for_number(number, \"en\"))\n",
    "print(geocoder.description_for_number(number, \"en\"))"
   ]
  },
  {
   "cell_type": "code",
   "execution_count": null,
   "metadata": {},
   "outputs": [],
   "source": []
  }
 ],
 "metadata": {
  "kernelspec": {
   "display_name": "Python 3",
   "language": "python",
   "name": "python3"
  },
  "language_info": {
   "codemirror_mode": {
    "name": "ipython",
    "version": 3
   },
   "file_extension": ".py",
   "mimetype": "text/x-python",
   "name": "python",
   "nbconvert_exporter": "python",
   "pygments_lexer": "ipython3",
   "version": "3.8.3"
  }
 },
 "nbformat": 4,
 "nbformat_minor": 4
}
